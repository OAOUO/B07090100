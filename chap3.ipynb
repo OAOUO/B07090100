{
 "cells": [
  {
   "cell_type": "markdown",
   "metadata": {},
   "source": [
    "# 比大小"
   ]
  },
  {
   "cell_type": "code",
   "execution_count": null,
   "metadata": {},
   "outputs": [],
   "source": [
    "a=3\n",
    "b=4\n",
    "if a <= b:\n",
    "    print(\"b是比較大的數\")\n",
    "else:\n",
    "    print(\"a是比較大的數\")"
   ]
  },
  {
   "cell_type": "code",
   "execution_count": 1,
   "metadata": {},
   "outputs": [
    {
     "name": "stdout",
     "output_type": "stream",
     "text": [
      "55\n"
     ]
    }
   ],
   "source": [
    "sum=0\n",
    "for count in range(1, 11,1): #for(迴圈) \n",
    "    sum += count             #count in range(1, 11,1): 是從1開始到11就停不計算11，每回圈一次+1  \n",
    "print(sum)"
   ]
  },
  {
   "cell_type": "markdown",
   "metadata": {},
   "source": [
    "# 儲存加總結果"
   ]
  },
  {
   "cell_type": "code",
   "execution_count": 3,
   "metadata": {},
   "outputs": [
    {
     "name": "stdout",
     "output_type": "stream",
     "text": [
      "1+2+3+...+10 累加結果是  55\n"
     ]
    }
   ],
   "source": [
    "sum = 0 \n",
    "for count in range(11): #數值1~10\n",
    "   sum += count #將數值累加\n",
    "print('1+2+3+...+10 累加結果是 ', sum)"
   ]
  },
  {
   "cell_type": "code",
   "execution_count": 4,
   "metadata": {},
   "outputs": [
    {
     "name": "stdout",
     "output_type": "stream",
     "text": [
      "f\n",
      "o\n",
      "r\n",
      " \n",
      "s\n",
      "t\n",
      "a\n",
      "t\n",
      "e\n",
      "m\n",
      "e\n",
      "n\n",
      "t\n",
      "end list\n"
     ]
    }
   ],
   "source": [
    "mylist=\"for statement\"\n",
    "for word in mylist:   #一個字一個字輸出\n",
    "    print(word)\n",
    "else:\n",
    "    print(\"end list\")"
   ]
  },
  {
   "cell_type": "markdown",
   "metadata": {},
   "source": [
    "# 雞兔同籠。若共有35個頭，94隻腳，問共有幾隻雞?幾隻兔?"
   ]
  },
  {
   "cell_type": "code",
   "execution_count": 5,
   "metadata": {},
   "outputs": [
    {
     "name": "stdout",
     "output_type": "stream",
     "text": [
      "雞有 23 隻,兔子有 12 隻\n"
     ]
    }
   ],
   "source": [
    "for chicken in range(0, 35):\n",
    "    rabbit=35-chicken\n",
    "    if 2*chicken+4*rabbit==94:\n",
    "        print(\"雞有\",chicken,\"隻,兔子有\",rabbit,\"隻\")\n",
    "        break\n",
    "else:\n",
    "    print(\"無解\")"
   ]
  },
  {
   "cell_type": "markdown",
   "metadata": {},
   "source": [
    "# while迴圈"
   ]
  },
  {
   "cell_type": "code",
   "execution_count": 6,
   "metadata": {},
   "outputs": [
    {
     "name": "stdout",
     "output_type": "stream",
     "text": [
      "1+2+3+...+ 10 累加結果 55\n"
     ]
    }
   ],
   "source": [
    "sum = 0 \n",
    "count = 1 \n",
    "while count <= 10:  \n",
    "   sum += count \n",
    "   count += 1\n",
    "print(\"1+2+3+...+ 10 累加結果\", sum)"
   ]
  },
  {
   "cell_type": "markdown",
   "metadata": {},
   "source": [
    "# 本金10000元，年利率1.9%，請問多久銀行存款會加倍"
   ]
  },
  {
   "cell_type": "code",
   "execution_count": null,
   "metadata": {},
   "outputs": [],
   "source": [
    "x=10000\n",
    "years=0\n",
    "while x <= 20000:\n",
    "    years+=1\n",
    "    x=x*1.019\n",
    "print(str(years),\"年以後，存款加倍，為\",int(x),\"元\")"
   ]
  },
  {
   "cell_type": "markdown",
   "metadata": {},
   "source": [
    "# 猜數字"
   ]
  },
  {
   "cell_type": "code",
   "execution_count": 8,
   "metadata": {},
   "outputs": [
    {
     "name": "stdout",
     "output_type": "stream",
     "text": [
      "輸入1~100之間的數字 --> 1\n",
      "答錯了\n",
      "輸入1~100之間的數字 --> 11\n",
      "你猜對了，數字是： 11\n"
     ]
    }
   ],
   "source": [
    "number=11\n",
    "while True:\n",
    "    guess = int(input('輸入1~100之間的數字 --> ')) #輸入一個值\n",
    "    if guess == number:                           #如果輸入的值=設定值\n",
    "        print('你猜對了，數字是：', number)\n",
    "        break  #結束迴圈\n",
    "    else:\n",
    "        print(\"答錯了\")"
   ]
  },
  {
   "cell_type": "code",
   "execution_count": null,
   "metadata": {},
   "outputs": [],
   "source": []
  }
 ],
 "metadata": {
  "kernelspec": {
   "display_name": "Python 3",
   "language": "python",
   "name": "python3"
  },
  "language_info": {
   "codemirror_mode": {
    "name": "ipython",
    "version": 3
   },
   "file_extension": ".py",
   "mimetype": "text/x-python",
   "name": "python",
   "nbconvert_exporter": "python",
   "pygments_lexer": "ipython3",
   "version": "3.7.4"
  }
 },
 "nbformat": 4,
 "nbformat_minor": 2
}
